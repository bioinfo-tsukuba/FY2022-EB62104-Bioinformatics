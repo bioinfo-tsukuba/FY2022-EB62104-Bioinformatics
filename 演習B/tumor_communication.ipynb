{
 "cells": [
  {
   "cell_type": "markdown",
   "metadata": {},
   "source": [
    "# 実習の説明\n",
    "\n",
    "## これは何か？\n",
    "\n",
    "Jupyter notebook というRを使うためのインターフェースの一つです。\n",
    "\n",
    "- Jupyter notebook の簡単な説明（日本語） https://datumstudio.jp/blog/795\n",
    "\n",
    "特に、今回は JupyterHub という形で（みなさんの手元のPCではなく）オンラインでJupyter notebookを使う環境を提供しています。\n",
    "これは、講義などで同一の環境でできるのに便利です。\n",
    "\n",
    "\n",
    "## 何をするか？\n",
    "\n",
    "非小細胞肺癌 (non-small-cell lung cancer; NSCLC) において、腫瘍組織内に存在する間質細胞から腫瘍細胞にシグナルのクロストークが送って腫瘍が活性化される可能性を探ります。データは、NSCLCモデルマウスと野生型のマウスの肺から、セルソーターで分けたマクロファージ、単球細胞、好中球、上皮細胞のRNA-seqデータです。\n",
    "\n",
    "> このようなRNA-seqデータを、「変数が全遺伝子、条件が細胞型xマウス（野生型 or 腫瘍）、値が発現量である表」として想像できると、あとの解析がスムーズです\n",
    "\n",
    "元ネタはこちら: \n",
    "\n",
    "- Toi _et al_., Transcriptome Analysis of Individual Stromal Cell Populations Identifies Stroma-Tumor Crosstalk in Mouse Lung Cancer Model, Cell Reports (2015) http://dx.doi.org/10.1016/j.celrep.2015.01.040 \n",
    "\n",
    "ソフトウェアやアノテーションデータが著者らのウェブページで公開されています。また、NGSデータの生データや処理済みデータはGene Expression Omnibus (GEO)より公開されています。\n",
    "\n",
    "- ソフトウェアやアノテーションデータ http://209.160.41.231/u54/CCCExplorer/\n",
    "- Gene Expression Omnibus (GEO)のNGSデータのページ https://www.ncbi.nlm.nih.gov/geo/query/acc.cgi?acc=GSE59831\n",
    "\n",
    "## どうやるか？\n",
    "\n",
    "腫瘍組織内間質細胞のリガンドから腫瘍細胞の受容体へのシグナルのクロストークがあるとしたら、\n",
    "\n",
    "- 腫瘍モデルマウスでは野生型に比べ、リガンドが発現上昇しているだろう\n",
    "- 腫瘍モデルマウスの上皮組織では、そのリガンドの受容体が発現しているだろう\n",
    "\n",
    "そのようなリガンドと受容体のペアを見つけるのに必要なデータは？\n",
    "\n",
    "- 既知のリガンド-受容体ペアのデータベース（ヒト）\n",
    "- ヒト-マウスオーソログの対応表\n",
    "- 腫瘍組織内間質細胞で発現上昇がみられた遺伝子のリスト\n",
    "- 腫瘍細胞での各遺伝子の発現量\n",
    "\n",
    "それらのデータを組み合わせればよさそう"
   ]
  },
  {
   "cell_type": "markdown",
   "metadata": {},
   "source": [
    "![image.png](https://ars.els-cdn.com/content/image/1-s2.0-S2211124715000650-fx1.jpg)\n",
    "(Image from http://dx.doi.org/10.1016/j.celrep.2015.01.040)"
   ]
  },
  {
   "cell_type": "markdown",
   "metadata": {},
   "source": [
    "# 練習"
   ]
  },
  {
   "cell_type": "markdown",
   "metadata": {},
   "source": [
    "## A01: 必要なパッケージを読み込む\n",
    "パッケージ（ライブラリ）を使えるようにするためにロードする"
   ]
  },
  {
   "cell_type": "code",
   "execution_count": null,
   "metadata": {},
   "outputs": [],
   "source": [
    "library(tidyverse)\n",
    "library(magrittr)"
   ]
  },
  {
   "cell_type": "markdown",
   "metadata": {},
   "source": [
    "## A02: プロットを大きくすぎない呪文"
   ]
  },
  {
   "cell_type": "code",
   "execution_count": null,
   "metadata": {},
   "outputs": [],
   "source": [
    "# プロットを大きくしすぎない呪文\n",
    "options(repr.plot.width=4, repr.plot.height=4)"
   ]
  },
  {
   "cell_type": "markdown",
   "metadata": {},
   "source": [
    "## A03: 発現変動遺伝子のデータを読み込む\n",
    "\n",
    "ここではマクロファージのデータ (`data/gene_exp.diff`) を例に、データのいじくりかたをみていきます。"
   ]
  },
  {
   "cell_type": "code",
   "execution_count": null,
   "metadata": {},
   "outputs": [],
   "source": [
    "# データの読み込み\n",
    "deg_macrophage = read_tsv(\"data/gene_exp.diff\")"
   ]
  },
  {
   "cell_type": "code",
   "execution_count": null,
   "metadata": {},
   "outputs": [],
   "source": [
    "# とりあえず何行何列かみてみる\n",
    "dim(deg_macrophage)"
   ]
  },
  {
   "cell_type": "code",
   "execution_count": null,
   "metadata": {},
   "outputs": [],
   "source": [
    "# データの頭の部分だけ確認\n",
    "head(deg_macrophage)"
   ]
  },
  {
   "cell_type": "markdown",
   "metadata": {},
   "source": [
    "## A04: 発現変動遺伝子のデータを加工する"
   ]
  },
  {
   "cell_type": "markdown",
   "metadata": {},
   "source": [
    "ふむふむ\n",
    "\n",
    "- 縦に遺伝子名のようなものが並んでいる。各行が遺伝子、各列が変数になっている\n",
    "- `p_value`や`q_value`は発現変動を判定する統計検定の結果だろう\n",
    "- `log2(fold_change)` は `value_2`/`value_1`をlog2変換したものだろう\n",
    "    - ちなみに、`value_1` は正常組織でのマクロファージ、 `value_2` は腫瘍組織内マクロファージ (intratumoral macropahges)でのFPKMの平均値\n",
    "    - これは __メタデータ__ をみないとわからない"
   ]
  },
  {
   "cell_type": "code",
   "execution_count": null,
   "metadata": {},
   "outputs": [],
   "source": [
    "# 使いたい列だけにする\n",
    "deg_macrophage %<>% select(gene_id, value_1, value_2, `log2(fold_change)`, p_value, q_value)"
   ]
  },
  {
   "cell_type": "code",
   "execution_count": null,
   "metadata": {},
   "outputs": [],
   "source": [
    "# データの形が変わったことを確認\n",
    "head(deg_macrophage)"
   ]
  },
  {
   "cell_type": "code",
   "execution_count": null,
   "metadata": {},
   "outputs": [],
   "source": [
    "# p-valueの分布を確認する\n",
    "hist(deg_macrophage$p_value)"
   ]
  },
  {
   "cell_type": "code",
   "execution_count": null,
   "metadata": {},
   "outputs": [],
   "source": [
    "# q-valueの分布を確認する\n",
    "hist(deg_macrophage$q_value)"
   ]
  },
  {
   "cell_type": "code",
   "execution_count": null,
   "metadata": {},
   "outputs": [],
   "source": [
    "# `log2(fold_change)`の分布を確認する\n",
    "hist(deg_macrophage$`log2(fold_change)`)"
   ]
  },
  {
   "cell_type": "code",
   "execution_count": null,
   "metadata": {},
   "outputs": [],
   "source": [
    "# log2FC と q_valueの関係を眺めてみる (volcano plot)\n",
    "plot(deg_macrophage$`log2(fold_change)`, -log10(deg_macrophage$q_value))"
   ]
  },
  {
   "cell_type": "markdown",
   "metadata": {},
   "source": [
    "## A05: 発現変動遺伝子の数を数える\n",
    "\n",
    "発現変動遺伝子の数を数えましょう\n"
   ]
  },
  {
   "cell_type": "code",
   "execution_count": null,
   "metadata": {},
   "outputs": [],
   "source": [
    "# 腫瘍組織内マクロファージで多い (FC > 1.5, q_value < 0.1) 遺伝子の数は？\n",
    "deg_macrophage %>% filter(`log2(fold_change)` > log2(1.5), q_value < 0.1) %>% nrow"
   ]
  },
  {
   "cell_type": "markdown",
   "metadata": {},
   "source": [
    "この中で、既知の発現変動遺伝子（条件間で変動が観察されることがすでに知られている遺伝子）が含まれているかを調べてみましょう\n",
    "\n",
    "- \"intratumoral macrophages express increased cathepsin K, COX-2, MMP-9, PDGF-B, uPA, VEGFA, and HGF (Wang et al., 2011)\"\n",
    "    - Wang et al., 2011 http://www.sciencedirect.com/science/article/pii/S0169500211002546"
   ]
  },
  {
   "cell_type": "code",
   "execution_count": null,
   "metadata": {},
   "outputs": [],
   "source": [
    "# ポジコンがとれるかの確認 (生物学的なQC)\n",
    "deg_macrophage %>% filter(`log2(fold_change)` > log2(1.5), q_value < 0.1) %>% filter(gene_id == \"Vegfa\")\n",
    "deg_macrophage %>% filter(`log2(fold_change)` > log2(1.5), q_value < 0.1) %>% filter(gene_id == \"Mmp9\")"
   ]
  },
  {
   "cell_type": "code",
   "execution_count": null,
   "metadata": {},
   "outputs": [],
   "source": [
    "# 正常組織内マクロファージで多い (FC > 1/1.5, q_value < 0.1) の遺伝子の数は？\n",
    "deg_macrophage %>% filter(`log2(fold_change)` > -log2(1.5), q_value < 0.1) %>% nrow"
   ]
  },
  {
   "cell_type": "markdown",
   "metadata": {},
   "source": [
    "------\n",
    "\n",
    "------\n",
    "\n",
    "------\n",
    "\n",
    "\n",
    "# 本番"
   ]
  },
  {
   "cell_type": "markdown",
   "metadata": {},
   "source": [
    "## A06: 腫瘍組織内間質細胞で発現上昇する遺伝子のリストを読み取る"
   ]
  },
  {
   "cell_type": "code",
   "execution_count": null,
   "metadata": {},
   "outputs": [],
   "source": [
    "# 例として野生型と腫瘍のマクロファージで発現変動検定をした結果を読み込みます\n",
    "deg_macrophage = read_tsv(\"data/gene_exp.diff\")\n",
    "\n",
    "# 行数と列数\n",
    "dim(deg_macrophage)"
   ]
  },
  {
   "cell_type": "markdown",
   "metadata": {},
   "source": [
    "## A07: 腫瘍組織内間質細胞で発現上昇する遺伝子のリストを加工する"
   ]
  },
  {
   "cell_type": "code",
   "execution_count": null,
   "metadata": {},
   "outputs": [],
   "source": [
    "# 使いたい列だけにする\n",
    "deg_macrophage %<>% select(gene_id, value_1, value_2, `log2(fold_change)`, p_value, q_value)\n",
    "\n",
    "# データの中身の確認\n",
    "deg_macrophage %>% head"
   ]
  },
  {
   "cell_type": "code",
   "execution_count": null,
   "metadata": {},
   "outputs": [],
   "source": [
    "# とある条件で腫瘍組織内間質細胞で発現上昇する遺伝子をフィルタリング\n",
    "deg_macrophage_tumor = deg_macrophage %>% filter(value_2 > 2 ,`log2(fold_change)` > log2(1.5), q_value < 0.1)\n",
    "\n",
    "# 何行 (何遺伝子)\n",
    "deg_macrophage_tumor %>% nrow"
   ]
  },
  {
   "cell_type": "markdown",
   "metadata": {},
   "source": [
    "## A08: 腫瘍細胞で発現する遺伝子のリストを読み取る\n"
   ]
  },
  {
   "cell_type": "code",
   "execution_count": null,
   "metadata": {},
   "outputs": [],
   "source": [
    "# 遺伝子発現量 (FPKM) をまとめた表を読み込む (Cufflinksの出力だとおもう)\n",
    "fpkm_epi = read_tsv(\"data/genes.read_group_tracking\")\n",
    "\n",
    "# 何行何列か\n",
    "dim(fpkm_epi)\n",
    "\n",
    "# データの最初の数行をみる\n",
    "fpkm_epi %>% head"
   ]
  },
  {
   "cell_type": "markdown",
   "metadata": {},
   "source": [
    "## A09: 腫瘍細胞で発現する遺伝子のリストを加工する"
   ]
  },
  {
   "cell_type": "code",
   "execution_count": null,
   "metadata": {},
   "outputs": [],
   "source": [
    "# 必要な列だけにする\n",
    "fpkm_epi %<>% select(tracking_id, FPKM)\n",
    "\n",
    "# 確認\n",
    "fpkm_epi %>% head"
   ]
  },
  {
   "cell_type": "code",
   "execution_count": null,
   "metadata": {},
   "outputs": [],
   "source": [
    "# とある条件で腫瘍細胞で発現する遺伝子をフィルタリング\n",
    "fpkm_epi_tumor = fpkm_epi %>% filter(FPKM > 2)\n",
    "\n",
    "# 何行 (何遺伝子)\n",
    "fpkm_epi_tumor %>% nrow"
   ]
  },
  {
   "cell_type": "markdown",
   "metadata": {},
   "source": [
    "## A10: ヒト-マウスのオーソログ関係の表を読み取る\n",
    "\n",
    "`data/HOM_MouseHumanSequence.rpt` は Mouse Genome Informatics database から取得されたヒト-マウスオーソログリスト"
   ]
  },
  {
   "cell_type": "code",
   "execution_count": null,
   "metadata": {
    "scrolled": true
   },
   "outputs": [],
   "source": [
    "# データの読み込み\n",
    "dfhom = read_tsv(\"data/HOM_MouseHumanSequence.rpt\")\n",
    "\n",
    "# 何行何列\n",
    "dim(dfhom)\n",
    "\n",
    "# データの頭をみる\n",
    "head(dfhom)"
   ]
  },
  {
   "cell_type": "markdown",
   "metadata": {},
   "source": [
    "## A11: ヒト-マウスのオーソログ関係の表を加工する"
   ]
  },
  {
   "cell_type": "code",
   "execution_count": null,
   "metadata": {},
   "outputs": [],
   "source": [
    "# 関係ありそうなところだけにする\n",
    "dfhom %<>% select(`HomoloGene ID`, Symbol, `Common Organism Name`)\n",
    "\n",
    "# 確認\n",
    "dfhom %>% head"
   ]
  },
  {
   "cell_type": "markdown",
   "metadata": {},
   "source": [
    "実は上の表は 1対1オーソログだけでなく、1対多オーソログも含まれていたので、ちょっと面倒です。\n",
    "このような場合、1対1オーソログのみに絞ることもありますし、全部残す場合もあります。ケースバイケース。\n",
    "\n",
    "いずれにせよ、上の形では扱いづらいので、ヒトとマウスのオーソログの対応が1行ごとに並んだ形にしましょう。"
   ]
  },
  {
   "cell_type": "code",
   "execution_count": null,
   "metadata": {},
   "outputs": [],
   "source": [
    "# マウスの行とヒトの表をそれぞれ抜き出し、 `full_join` で joinしている\n",
    "dfhom2 = full_join(\n",
    "    dfhom %>%\n",
    "        filter(`Common Organism Name` == \"mouse, laboratory\") %>%\n",
    "        select(-`Common Organism Name`),\n",
    "    dfhom %>% \n",
    "        filter(`Common Organism Name` == \"human\") %>%\n",
    "        select(-`Common Organism Name`),\n",
    "    by = \"HomoloGene ID\"\n",
    ")\n",
    "\n",
    "# 列名を変更する\n",
    "dfhom2 %<>% dplyr::rename(mouse=Symbol.x, human=Symbol.y)\n",
    "\n",
    "# 何行何列\n",
    "dfhom2 %>% dim\n",
    "\n",
    "# データの頭\n",
    "dfhom2 %>% head"
   ]
  },
  {
   "cell_type": "markdown",
   "metadata": {},
   "source": [
    "## A12: リガンド-受容体関係の表を読み込む\n",
    "\n",
    "（実は`From` がリガンドで、 `To` が受容体）"
   ]
  },
  {
   "cell_type": "code",
   "execution_count": null,
   "metadata": {},
   "outputs": [],
   "source": [
    "# 読み込み\n",
    "dflr = read_tsv(\"data/LR_manual_revised.txt\")\n",
    "\n",
    "# 何行何列\n",
    "dflr %>% dim\n",
    "\n",
    "# 頭\n",
    "dflr %>% head"
   ]
  },
  {
   "cell_type": "markdown",
   "metadata": {},
   "source": [
    "## A13: 遺伝子のリストとヒト-マウスオーソログの表を結合する\n",
    "\n",
    "遺伝子のリストとヒト-マウスオーソログの表を結合することで、マウスの遺伝子リストであってもヒトの遺伝子に関するデータベースの情報と照合することができるようになります。\n",
    "\n",
    "そのために、JOIN をします。JOINは２つの表x, yそれぞれの列を比較し、x,yを結合した新しい表を作る操作です。\n",
    "\n",
    "比較する列をキーと呼びます。表 x, y のキーがユニークで同一であれば単に横に連結すればいいですが、実際には、xもしくはyまたは両方で足りない/余分なキーがある場合があり、そのような場合にどう処理するかによって、JOINに様々な種類があります。\n",
    "\n",
    "- join について https://qiita.com/matsuou1/items/b1bd9778610e3a586e71"
   ]
  },
  {
   "cell_type": "code",
   "execution_count": null,
   "metadata": {},
   "outputs": [],
   "source": [
    "dfhom2 %>% colnames"
   ]
  },
  {
   "cell_type": "code",
   "execution_count": null,
   "metadata": {},
   "outputs": [],
   "source": [
    "# ヒト-マウスオーソログ関係の表と遺伝子リスト表を結合する\n",
    "## `left_join` は一番目の表（データフレーム) の\b行は全部残して、JOINを行う\n",
    "deg_macrophage_tumor_human = left_join(deg_macrophage_tumor, dfhom2, by=c(\"gene_id\" = \"mouse\"))\n",
    "\n",
    "# head\n",
    "## deg_macrophage_tumor にあっても dfhom2 になかった列では、 `HomoloGene ID`やhumanが欠損値 (NA) になっている\n",
    "deg_macrophage_tumor_human %>% head\n",
    "\n",
    "# human が NA でないの行だけにする\n",
    "deg_macrophage_tumor_human　%<>% filter(!is.na(human))\n",
    "\n",
    "deg_macrophage_tumor_human %>% head"
   ]
  },
  {
   "cell_type": "code",
   "execution_count": null,
   "metadata": {},
   "outputs": [],
   "source": [
    "# ヒト-マウスオーソログ関係の表と遺伝子リスト表を結合する\n",
    "fpkm_epi_tumor_human = left_join(fpkm_epi_tumor, dfhom2, by=c(\"tracking_id\" = \"mouse\"))\n",
    "\n",
    "# head\n",
    "fpkm_epi_tumor_human %>% head\n",
    "\n",
    "# human が NA でないの行だけにする\n",
    "fpkm_epi_tumor_human　%<>% filter(!is.na(human))\n",
    "\n",
    "# 何行何列\n",
    "fpkm_epi_tumor_human %>% dim\n",
    "\n",
    "fpkm_epi_tumor_human　%>% head"
   ]
  },
  {
   "cell_type": "markdown",
   "metadata": {},
   "source": [
    "## A14: リガンド-受容体関係の情報に発現/発現変動遺伝子の情報を加える\n",
    "\n",
    "`A %in% B` はAの各要素がBに含まれるかをTRUE/FALSEのベクトルで返す関数です。"
   ]
  },
  {
   "cell_type": "code",
   "execution_count": null,
   "metadata": {},
   "outputs": [],
   "source": [
    "# ligand_up_in_tumor_macrophage という列を追加する。deg_macrophage_tumor_human に リガンドが含まれるならばTRUE、そうでないならばFALSSEとなる\n",
    "## \n",
    "dflr %>% \n",
    "    mutate(ligand_up_in_tumor_macrophage = From %in% deg_macrophage_tumor_human$human) -> dflr\n",
    "\n",
    "# head\n",
    "dflr %>% head\n",
    "\n",
    "# ligand_up_in_tumor_macrophage の数を集計\n",
    "dflr %>% group_by(ligand_up_in_tumor_macrophage) %>% summarise(n = n())"
   ]
  },
  {
   "cell_type": "code",
   "execution_count": null,
   "metadata": {},
   "outputs": [],
   "source": [
    "# receptor_expressed_in_tumor_macrophage という列を追加する。fpkm_epi_tumor_human に 受容体が含まれるならばTRUE、そうでないならばFALSSEとなる\n",
    "## \n",
    "dflr %<>% mutate(receptor_expressed_in_tumor_macrophage = To %in% fpkm_epi_tumor_human$human)\n",
    "\n",
    "# head\n",
    "dflr %>% head\n",
    "\n",
    "# receptor_expressed_in_tumor_macrophage の数を集計\n",
    "dflr %>% group_by(receptor_expressed_in_tumor_macrophage) %>% summarise(n = n())"
   ]
  },
  {
   "cell_type": "code",
   "execution_count": null,
   "metadata": {},
   "outputs": [],
   "source": [
    "# `ligand_up_in_tumor_macrophage` と  `receptor_expressed_in_tumor_macrophage` が両方TRUEである行を探す\n",
    "dflr_pair = dflr %>% filter(ligand_up_in_tumor_macrophage == TRUE, receptor_expressed_in_tumor_macrophage == TRUE)\n",
    "\n",
    "# dim\n",
    "dflr_pair %>% dim\n",
    "\n",
    "# head\n",
    "dflr_pair %>% head"
   ]
  },
  {
   "cell_type": "markdown",
   "metadata": {},
   "source": [
    "先行研究で、腫瘍組織内マクロファージで発現上昇が見られるリガンドも入っていた\n",
    "\n",
    "- \"intratumoral macrophages express increased cathepsin K, COX-2, MMP-9, PDGF-B, uPA, VEGFA, and HGF (Wang et al., 2011)\"\n",
    "    - Wang et al., 2011 http://www.sciencedirect.com/science/article/pii/S0169500211002546"
   ]
  },
  {
   "cell_type": "code",
   "execution_count": null,
   "metadata": {},
   "outputs": [],
   "source": [
    "dflr_pair %>% filter(From == \"HGF\")"
   ]
  },
  {
   "cell_type": "markdown",
   "metadata": {},
   "source": [
    "## A15: とりたいものがとれてきているか可視化して確認する\n",
    "\n",
    "GEOのFPKMの発現量行列を用いて、上の方法でとってきたリガンドレセプターのペアが本当に\n",
    "\n",
    "- 腫瘍組織内マクロファージで多いリガンドか？\n",
    "- 腫瘍細胞で発現している受容体か？\n",
    "\n",
    "ということを確かめました。\n",
    "\n",
    "GEOのデータはあらかじめダウンロードしておきました。\n",
    "\n",
    "GEOのページのメタデータをみないとわからないのですが、Tum1, Tum2, Tum3 が腫瘍組織内マクロファージ、WT1, WT2が野生型組織でのマクロファージ、Tum9, Tum10, Tum11が腫瘍細胞です。"
   ]
  },
  {
   "cell_type": "code",
   "execution_count": null,
   "metadata": {},
   "outputs": [],
   "source": [
    "# データの読み込み\n",
    "df_fpkm = read_tsv(\"data/GSE59831_processed_data_FPKM.txt\")\n",
    "\n",
    "# dim\n",
    "df_fpkm %>% dim\n",
    "\n",
    "# 様子を見る\n",
    "df_fpkm %>% head\n",
    "\n",
    "# 列名だけを表示\n",
    "df_fpkm %>% colnames"
   ]
  },
  {
   "cell_type": "code",
   "execution_count": null,
   "metadata": {},
   "outputs": [],
   "source": [
    "# リガンドだけを可視化\n",
    "## うまくいっているなら、Tum1, Tum2, Tum3 (腫瘍組織内マクロファージ)で多く、WT1, WT2 (野生型) で少ない\n",
    "\n",
    "# dflr_pair に含まれるリガンドだけに絞り、 as.matrix　で行列にする\n",
    "x = df_fpkm %>% \n",
    "        select(human_gene_symbol, Tum1, Tum2, Tum3, WT1, WT2, Tum9, Tum10, Tum11) %>%\n",
    "        filter(human_gene_symbol %in% dflr_pair$From) %>% \n",
    "        select(-human_gene_symbol) %>% \n",
    "        as.matrix()\n",
    "\n",
    "# 何行何列\n",
    "dim(x)\n",
    "\n",
    "# ヒートマップをプロット\n",
    "heatmap(x, Colv = FALSE)"
   ]
  },
  {
   "cell_type": "code",
   "execution_count": null,
   "metadata": {},
   "outputs": [],
   "source": [
    "# 受容体だけを可視化\n",
    "## うまくいっているなら、Tum9, Tum10, Tum11 で多い\n",
    "\n",
    "# dflr_pair に含まれるリガンドだけに絞り、 as.matrix　で行列にする\n",
    "x = df_fpkm %>% \n",
    "        select(human_gene_symbol, Tum1, Tum2, Tum3, WT1, WT2, Tum9, Tum10, Tum11) %>%\n",
    "        filter(human_gene_symbol %in% dflr_pair$To) %>% \n",
    "        select(-human_gene_symbol) %>% \n",
    "        as.matrix()\n",
    "\n",
    "# 何行何列\n",
    "dim(x)\n",
    "\n",
    "# ヒートマップをプロット\n",
    "heatmap(x, Colv = FALSE)\n"
   ]
  },
  {
   "cell_type": "markdown",
   "metadata": {},
   "source": [
    "----\n",
    "\n",
    "----\n",
    "\n",
    "----\n",
    "\n",
    "\n",
    "## このあとどうするか？\n",
    "\n",
    "今のままでは、候補がかなり多いため、仮説を検証する実験をするのは難しそうです。また、この予測がどのくらい正しいのかも不明です。\n",
    "\n",
    "元論文では、このリガンド-受容体ペアを足がかりに、以下のような解析をします。\n",
    "\n",
    "- 受容体の下流のシグナル伝達経路から転写因子があるか探す（パスウェイデータベースを参照する）\n",
    "- それらの下流の転写因子がターゲットとする遺伝子を探す（パスウェイデータベースや遺伝子制御関係のデータベースを参照する）\n",
    "- それらのターゲット遺伝子群にランダムに比べて発現変動遺伝子が濃縮しているかを調べる（統計検定）\n",
    "\n",
    "このような解析を加えることで、単にリガンドと受容体が共起だけでなく、さらに信頼性のあるペアを探すことができます。\n",
    "\n",
    "ちなみに、著者らはこの方法をCCCExplorerと名付けています。詳しくは元の論文をご覧ください:\n",
    "\n",
    "- Toi _et al_., Transcriptome Analysis of Individual Stromal Cell Populations Identifies Stroma-Tumor Crosstalk in Mouse Lung Cancer Model, Cell Reports (2015) http://dx.doi.org/10.1016/j.celrep.2015.01.040 \n"
   ]
  },
  {
   "cell_type": "markdown",
   "metadata": {},
   "source": [
    "## 小まとめ\n",
    "\n",
    "このようにIDによる統合を繰り返すだけでもいろいろな仮説を立てられます。また、NGS解析とは言いつつ、NGSデータ以外の生命科学データを合わせることで、単なる発現変動遺伝子のリストよりも深い知見が得られるうることがみえてきたかと思います。\n"
   ]
  }
 ],
 "metadata": {
  "kernelspec": {
   "display_name": "R",
   "language": "R",
   "name": "ir"
  },
  "language_info": {
   "codemirror_mode": "r",
   "file_extension": ".r",
   "mimetype": "text/x-r-source",
   "name": "R",
   "pygments_lexer": "r",
   "version": "4.0.3"
  }
 },
 "nbformat": 4,
 "nbformat_minor": 2
}
