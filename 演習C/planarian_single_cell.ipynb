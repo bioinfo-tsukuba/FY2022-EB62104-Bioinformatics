{
 "cells": [
  {
   "cell_type": "markdown",
   "id": "typical-origin",
   "metadata": {},
   "source": [
    "## 1. 必要なパッケージを読み込む\n",
    "\n",
    "- Seurat: １細胞RNA-seqデータ解析の統合パッケージ\n",
    "- tidyverse: テーブル形式のデータを解析するための統合パッケージ\n",
    "    - モダンなデータサイエンスのための便利なパッケージ群\n"
   ]
  },
  {
   "cell_type": "code",
   "execution_count": null,
   "id": "conscious-lecture",
   "metadata": {},
   "outputs": [],
   "source": [
    "# Command-01\n",
    "\n",
    "library(Seurat)"
   ]
  },
  {
   "cell_type": "code",
   "execution_count": null,
   "id": "victorian-winning",
   "metadata": {
    "scrolled": false
   },
   "outputs": [],
   "source": [
    "# Command-02\n",
    "\n",
    "library(tidyverse)"
   ]
  },
  {
   "cell_type": "markdown",
   "id": "threaded-audio",
   "metadata": {},
   "source": [
    "## 2. シードの固定\n",
    "\n",
    "描画結果などがランダムになる部分の計算を、制御するためのおまじない。"
   ]
  },
  {
   "cell_type": "code",
   "execution_count": null,
   "id": "brilliant-hydrogen",
   "metadata": {
    "scrolled": true
   },
   "outputs": [],
   "source": [
    "# Command-03\n",
    "\n",
    "set.seed(1234)"
   ]
  },
  {
   "cell_type": "markdown",
   "id": "proper-excerpt",
   "metadata": {},
   "source": [
    "## 3. データ（遺伝子発現量行列）を読み込む\n",
    "\n",
    "- このデータは、各行が遺伝子、各列が細胞を表してます\n",
    "- つまり、\n",
    "    - 行数＝遺伝子の数\n",
    "    - 列数＝細胞の数\n",
    "    - $i$ 行目、$j$ 列目の要素の数値は、$i$ 番目の遺伝子が $j$ 番目の細胞での発現量\n"
   ]
  },
  {
   "cell_type": "code",
   "execution_count": null,
   "id": "norman-retreat",
   "metadata": {
    "scrolled": true
   },
   "outputs": [],
   "source": [
    "# Command-04\n",
    "\n",
    "# （ちょっと時間がかかります）\n",
    "\n",
    "df_counts <- read_tsv(\"data/GSM3173562_Lakshmipuram_NCBI_processeddata.txt\", col_names=TRUE)"
   ]
  },
  {
   "cell_type": "markdown",
   "id": "labeled-gasoline",
   "metadata": {},
   "source": [
    "## 4. 読み込んだデータの「形」を確認する\n",
    "\n",
    "- 「形」と読んでいるのは、行数、列数、どんな値が入っているかなど"
   ]
  },
  {
   "cell_type": "code",
   "execution_count": null,
   "id": "directed-macro",
   "metadata": {
    "scrolled": true
   },
   "outputs": [],
   "source": [
    "# Command-05\n",
    "\n",
    "# 中身の確認 (最初の数行を出力する)\n",
    "\n",
    "head(df_counts)"
   ]
  },
  {
   "cell_type": "code",
   "execution_count": null,
   "id": "perfect-strength",
   "metadata": {
    "scrolled": true
   },
   "outputs": [],
   "source": [
    "# Command-06\n",
    "\n",
    "# 行数\n",
    "\n",
    "nrow(df_counts)"
   ]
  },
  {
   "cell_type": "code",
   "execution_count": null,
   "id": "conditional-server",
   "metadata": {},
   "outputs": [],
   "source": [
    "# Command-07\n",
    "\n",
    "# 列数\n",
    "\n",
    "ncol(df_counts)"
   ]
  },
  {
   "cell_type": "markdown",
   "id": "surface-america",
   "metadata": {},
   "source": [
    "## 5. データを Seurat の形に変換する"
   ]
  },
  {
   "cell_type": "code",
   "execution_count": null,
   "id": "widespread-current",
   "metadata": {},
   "outputs": [],
   "source": [
    "# Command-08\n",
    "\n",
    "# データフレームを行列に変換する\n",
    "df_counts %>% \n",
    "select(-GENE) %>% \n",
    "as.matrix() ->\n",
    "mat_counts\n",
    "\n",
    "# 最初の数行を確認する\n",
    "\n",
    "head(mat_counts)"
   ]
  },
  {
   "cell_type": "code",
   "execution_count": null,
   "id": "smoking-trauma",
   "metadata": {},
   "outputs": [],
   "source": [
    "# Command-09\n",
    "\n",
    "# データフレーム df_counts の GENE という列の値を、行列 mat_counts の行の名前として代入する\n",
    "\n",
    "rownames(mat_counts) <- df_counts$GENE\n",
    "\n",
    "# 最初の数行を確認する (Command-08 の時と比較して、行に名前がついた)\n",
    "\n",
    "head(mat_counts)"
   ]
  },
  {
   "cell_type": "code",
   "execution_count": null,
   "id": "average-average",
   "metadata": {},
   "outputs": [],
   "source": [
    "# Command-10\n",
    "\n",
    "# 作った行列の構造を確認する（出力の１行目は何行 x 何列か、３行目は行の名前 (row names)、4行目は列の名前 (column names) を表す）\n",
    "\n",
    "str(mat_counts)"
   ]
  },
  {
   "cell_type": "code",
   "execution_count": null,
   "id": "narrow-happening",
   "metadata": {
    "scrolled": true
   },
   "outputs": [],
   "source": [
    "# Command-11\n",
    "\n",
    "# Seurat オブジェクトに変換する \n",
    "# counts のところに先ほど作った mat_counts を設定\n",
    "# project のところはなんでもいい（ここでは　\"planarian_2k\" を設定)\n",
    "\n",
    "planarian <-  CreateSeuratObject(counts = mat_counts, project = \"planarian_2k\")"
   ]
  },
  {
   "cell_type": "code",
   "execution_count": null,
   "id": "indian-tours",
   "metadata": {},
   "outputs": [],
   "source": [
    "# Command-12\n",
    "\n",
    "# 作った Seurat オブジェクト (planarian) を確認する \n",
    "# (features は遺伝子、samples は細胞と読み替えてください)\n",
    "\n",
    "planarian"
   ]
  },
  {
   "cell_type": "markdown",
   "id": "pleasant-shipping",
   "metadata": {},
   "source": [
    "## 6: 品質の低い細胞をフィルターする"
   ]
  },
  {
   "cell_type": "code",
   "execution_count": null,
   "id": "faced-drain",
   "metadata": {},
   "outputs": [],
   "source": [
    "# Command-13\n",
    "\n",
    "# Violin plot という種類のグラフ\n",
    "# 各点は細胞を表す\n",
    "# 横幅が大きい値のところに点（＝細胞）が多く集中している\n",
    "\n",
    "# - nFeature_RNA は「その細胞で、何個の遺伝子の発現がみられたか」\n",
    "# - nCount_RNA は「その細胞での、各遺伝子のカウントの合計値」\n",
    "# 例：遺伝子が５つの生き物を想定する、５つの遺伝子のカウントがそれぞれ[10, 15, 0, 23, 594] だった時、\n",
    "#      nFeature_RNA は4, nFeature_RNAは 642 (=10+15+23+594) となる\n",
    "\n",
    "VlnPlot(planarian, features = c(\"nFeature_RNA\", \"nCount_RNA\"), ncol = 2)"
   ]
  },
  {
   "cell_type": "code",
   "execution_count": null,
   "id": "unusual-pizza",
   "metadata": {},
   "outputs": [],
   "source": [
    "# Command-14\n",
    "\n",
    "# 散布図\n",
    "# 点は細胞を表す\n",
    "# 横軸は nCount_RNA\n",
    "# 縦軸は nFeature_RNA\n",
    "\n",
    "FeatureScatter(planarian, feature1 = \"nCount_RNA\", feature2 = \"nFeature_RNA\")"
   ]
  },
  {
   "cell_type": "code",
   "execution_count": null,
   "id": "faced-calendar",
   "metadata": {},
   "outputs": [],
   "source": [
    "# Command-15\n",
    "\n",
    "# ここでは、RNAがあまり検出できていない細胞の情報を除きたい。\n",
    "# そのために、RNAがある程度検出できている細胞を残すという操作をしている（混乱しないように）。\n",
    "\n",
    "# `subset()` という関数は、特定の条件の細胞だけを選び取るために用いている。\n",
    "# ここでは nFeature_RNA が200以上、かつ、nCount_RNA が 500 以上である細胞を選んでいる\n",
    "# (`nFeature_RNA >= 200 & nCount_RNA >= 500` の部分で条件を指定している）\n",
    "\n",
    "\n",
    "planarian <- subset(planarian, subset = nFeature_RNA >= 200 & nCount_RNA >= 500)"
   ]
  },
  {
   "cell_type": "code",
   "execution_count": null,
   "id": "running-burke",
   "metadata": {},
   "outputs": [],
   "source": [
    "# Command-16\n",
    "\n",
    "# Command-12 では 2000 samples だったが、 1131 samples になっている。\n",
    "# つまり、RNAがある程度検出できている細胞を残した（RNAがあまり検出できていない細胞の情報を除いた）。\n",
    "\n",
    "planarian"
   ]
  },
  {
   "cell_type": "code",
   "execution_count": null,
   "id": "finnish-turning",
   "metadata": {},
   "outputs": [],
   "source": [
    "# Command-17\n",
    "\n",
    "# Command-14 の時より0に近い細胞（点）がなくなっていることに注意\n",
    "\n",
    "FeatureScatter(planarian, feature1 = \"nCount_RNA\", feature2 = \"nFeature_RNA\")"
   ]
  },
  {
   "cell_type": "markdown",
   "id": "excessive-penalty",
   "metadata": {},
   "source": [
    "## 7. 発現量データを正規化する\n",
    "\n",
    "- 細胞間で遺伝子発現量を比較できるように、正規化（Nomalization）を行う。\n",
    "- ここでは、 `LogNormalize` という方法を使う\n",
    "    - ある細胞 $j$ でのある遺伝子 $i$ の発現量を $x_{i,j}$  とする\n",
    "    - scale.factor の値を $\\alpha$ とする\n",
    "    - まず、ある細胞 $j$ で feature (遺伝子) のカウントを合計する（この合計値を $S_j = \\sum_i x_{i,j}$ とする)\n",
    "    - 次に、ある細胞 $j$ での遺伝子のカウント $x_{i,j}$  を $S_j$ で割って $\\alpha$ をかける ($\\frac{x_{i,j}}{S_j}  \\alpha $ )\n",
    "    - さらに、1を足して、 logをとる ($y_{i,j} = \\log(\\frac{x_{i,j}}{S_j}  \\alpha + 1)$)\n",
    "    - この $y_{i,j}$ が正規化された発現量\n",
    "\n"
   ]
  },
  {
   "cell_type": "code",
   "execution_count": null,
   "id": "floral-birth",
   "metadata": {},
   "outputs": [],
   "source": [
    "#  Command-18\n",
    "\n",
    "# 遺伝子発現量を正規化している\n",
    "\n",
    "planarian <- NormalizeData(planarian, normalization.method = \"LogNormalize\", scale.factor = 10000)"
   ]
  },
  {
   "cell_type": "markdown",
   "id": "associate-petroleum",
   "metadata": {},
   "source": [
    "## 8. 高変動遺伝子（highly variabe genes) を抽出する\n",
    "\n",
    "- 高変動遺伝子（highly variabe genes; HVG) は、細胞間で発現量の変動が大きい遺伝子のこと\n",
    "- １細胞RNA-seqのデータは遺伝子が数万 (今のデータだと 51562 features) ある「高次元データ」です\n",
    "- 高次元データで全ての変数（＝ここでは遺伝子）の値を用いて解析すると、計算時間がかかったり、ノイズの影響を受けたりする\n",
    "- そこで、「遺伝子発現量が、ランダムなノイズによる変動よりも大きな細胞間変動を示している遺伝子」を抽出することで、細胞間での生物学的な変動を反映した遺伝子だけにしてデータ解析をしたい\n",
    "- そのために、ここでは、どれが高変動遺伝子かを見つけます"
   ]
  },
  {
   "cell_type": "code",
   "execution_count": null,
   "id": "divine-mills",
   "metadata": {
    "scrolled": true
   },
   "outputs": [],
   "source": [
    "# Command-19\n",
    "\n",
    "# どれが高変動遺伝子かを見つけます\n",
    "# 変動が大きな 2000個の遺伝子を探す (nfeatures でってい)\n",
    "\n",
    "planarian <- FindVariableFeatures(planarian, selection.method = \"vst\", nfeatures = 2000)"
   ]
  },
  {
   "cell_type": "code",
   "execution_count": null,
   "id": "adequate-triangle",
   "metadata": {},
   "outputs": [],
   "source": [
    "# Command-20\n",
    "\n",
    "# トップ10の高変動遺伝子を抽出する\n",
    "\n",
    "top10 <- head(VariableFeatures(planarian), 10)\n",
    "\n",
    "print(top10)"
   ]
  },
  {
   "cell_type": "code",
   "execution_count": null,
   "id": "australian-entrepreneur",
   "metadata": {},
   "outputs": [],
   "source": [
    "# Command-21\n",
    "\n",
    "# 高変動遺伝子の\n",
    "# 点は遺伝子を表す\n",
    "# 横軸は、遺伝子発現量を細胞間で平均をとった値\n",
    "# 縦軸は、遺伝子発現量の細胞間での分散（を標準化したもの）\n",
    "\n",
    "# 上にある点（＝遺伝子）は変動が大きい。→高変動遺伝子と考える\n",
    "# 高変動遺伝子と判定された遺伝子は赤くなっている\n",
    "\n",
    "plot1 <- VariableFeaturePlot(planarian)\n",
    "plot1\n",
    "\n",
    "# 同じグラフで、変動が大きい遺伝子について、遺伝子名を表示している\n",
    "\n",
    "LabelPoints(plot = plot1, points = top10, repel = TRUE)"
   ]
  },
  {
   "cell_type": "markdown",
   "id": "helpful-corps",
   "metadata": {},
   "source": [
    "## 9. データをスケーリングする\n",
    "\n",
    "- このあと行う主成分分析などでは、各遺伝子の発現量のスケールが揃っていていることが想定されている\n",
    "- しかし、現状では、低発現の遺伝子と高発現の遺伝子では、発現量に1000~10000倍の差がある\n",
    "- そこで、遺伝子間でのスケールを揃えるために、スケーリングを行う\n",
    "- 具体的には\n",
    "    - 遺伝子ごとに、合計が０になるようにし（センタリング; centering) 、その上で、分散が1になるようにする\n",
    "- スケーリングの、細胞 $i$, 遺伝子 $j$ の発現量は $y^\\prime_{i,j}$ と考えられる\n"
   ]
  },
  {
   "cell_type": "code",
   "execution_count": null,
   "id": "internal-blond",
   "metadata": {},
   "outputs": [],
   "source": [
    "# Command-22\n",
    "\n",
    "#  スケーリングの対象の遺伝子を選ぶ (全遺伝子を使う)\n",
    "\n",
    "all.genes <- rownames(planarian)\n",
    "\n",
    "# `all.genes` の要素数（スケーリングの対象の遺伝子の数）を念のため確認\n",
    "print(length(all.genes))\n",
    "\n",
    "# 遺伝子発現量をスケーリングする\n",
    "# (少し時間がかかります)\n",
    "\n",
    "planarian <- ScaleData(planarian, features = all.genes)"
   ]
  },
  {
   "cell_type": "markdown",
   "id": "temporal-pressing",
   "metadata": {},
   "source": [
    "## 10. PCA（主成分分析）を用いて次元削減を行う\n",
    "\n",
    "- 主成分分析\n",
    "    - Principal component analysis (PCA) \n",
    "- PCAでは、主成分（PC (Principal component) ） $p$ ごとかつ細胞 $j$　ごとに主成分スコア $z_{j,p}$ が計算される\n",
    "    - 例えば、 5番目の細胞の PC1 の主成分スコアは $z_{5,1}$\n",
    "- 主成分スコア $z_{j,p}$　と各遺伝子 $i$ の発現量 $y^\\prime_{i,j}$ の関連の強さを表す値を、因子負荷量 (factor loading) と呼ぶ。\n",
    "    - 各主成分 $p$ と各遺伝子 $i$ の組み合わせについて、 因子負荷量 $w_{p,i}$ が計算できる\n",
    "    - $w_{p,i}$ が正で絶対値が高い遺伝子は、主成分スコア $z_{j,p}$ が高い細胞で  $y^\\prime_{i,j}$ の発現量が高いという関係がある\n",
    "    - $w_{p,i}$ が負で絶対値が高い遺伝子は、主成分スコア $z_{j,p}$ が高い細胞で  $y^\\prime_{i,j}$ の発現量が低いという関係がある\n"
   ]
  },
  {
   "cell_type": "code",
   "execution_count": null,
   "id": "direct-greece",
   "metadata": {
    "scrolled": true
   },
   "outputs": [],
   "source": [
    "# Command-23\n",
    "\n",
    "# 遺伝子発現量行列に対してPCAを行う\n",
    "# (PC_1, PC_2, などと表示されるはず)\n",
    "\n",
    "planarian <- RunPCA(planarian, features = VariableFeatures(object = planarian))"
   ]
  },
  {
   "cell_type": "code",
   "execution_count": null,
   "id": "caring-transcript",
   "metadata": {
    "scrolled": true
   },
   "outputs": [],
   "source": [
    "# Command-24\n",
    "\n",
    "# 主成分（PC (Principal component) ）ごとに、その主成分スコアと遺伝子発現量の相関が高い（正負それぞれ）遺伝子5つを表示させる\n",
    "\n",
    "print(planarian[[\"pca\"]], dims = 1:5, nfeatures = 5)"
   ]
  },
  {
   "cell_type": "code",
   "execution_count": null,
   "id": "aggregate-landscape",
   "metadata": {},
   "outputs": [],
   "source": [
    "# Command-25\n",
    "\n",
    "# 主成分（PC (Principal component) ）ごとに、その主成分スコアと遺伝子発現量の相関が高い（正負それぞれ）遺伝子を表示させる\n",
    "\n",
    "VizDimLoadings(planarian, dims = 1:2, reduction = \"pca\")"
   ]
  },
  {
   "cell_type": "code",
   "execution_count": null,
   "id": "eastern-march",
   "metadata": {},
   "outputs": [],
   "source": [
    "# Command-26\n",
    "\n",
    "# 散布図を表示する\n",
    "# 点は細胞\n",
    "# PCAの結果から、各細胞 $j$ の PC1の主成分スコア $z_{j,1}$ （横軸）とPC2 の主成分スコア $z_{j,2}$ （縦軸）を表示している\n",
    "\n",
    "DimPlot(planarian, reduction = \"pca\")"
   ]
  },
  {
   "cell_type": "code",
   "execution_count": null,
   "id": "assured-borough",
   "metadata": {},
   "outputs": [],
   "source": [
    "# Command-27\n",
    "\n",
    "# 主成分ごとにヒートマップを表示\n",
    "# ヒートマップの横軸は細胞を表す。細胞は主成分スコアの順に並んでいる\n",
    "# ヒートマップの縦軸は遺伝子。因子負荷量の絶対値が大きい遺伝子だけが表示されている\n",
    "# 発現量に応じて各要素の色が異なる\n",
    "\n",
    "DimHeatmap(planarian, dims = 1:9, cells = 500, balanced = TRUE)"
   ]
  },
  {
   "cell_type": "markdown",
   "id": "premium-object",
   "metadata": {},
   "source": [
    "## 11. 何番目の主成分までを考慮すべきかを調べる\n",
    "\n",
    "- PCAでは、PC1, PC2, ...　の順に（元のデータが持つ変動の再構成に）重要となる\n",
    "- 番号が後ろの主成分ほど、寄与が小さい（→無視できる）\n",
    "- 何番目の主成分までを考慮すべきかを調べる\n"
   ]
  },
  {
   "cell_type": "code",
   "execution_count": null,
   "id": "reduced-cosmetic",
   "metadata": {},
   "outputs": [],
   "source": [
    "# Command-28\n",
    "\n",
    "# 準備\n",
    "\n",
    "# 少し時間がかかります\n",
    "planarian <- JackStraw(planarian, num.replicate = 100)\n",
    "planarian <- ScoreJackStraw(planarian, dims = 1:20)"
   ]
  },
  {
   "cell_type": "code",
   "execution_count": null,
   "id": "classical-rachel",
   "metadata": {},
   "outputs": [],
   "source": [
    "# Command-29\n",
    "\n",
    "# - 点線に近いほど重要でない\n",
    "\n",
    "JackStrawPlot(planarian, dims = 1:15)"
   ]
  },
  {
   "cell_type": "code",
   "execution_count": null,
   "id": "southern-composite",
   "metadata": {},
   "outputs": [],
   "source": [
    "# Command-30\n",
    "\n",
    "# - 縦軸の値が小さいほど重要でない\n",
    "\n",
    "ElbowPlot(planarian)"
   ]
  },
  {
   "cell_type": "markdown",
   "id": "considered-province",
   "metadata": {},
   "source": [
    "## 12. 細胞をクラスタリングする\n",
    "\n",
    "\n",
    "- クラスタリングとは、たくさんのサンプルを、データの値の類似性に基づいて、いくつかのグループに分けることでさる\n",
    "- １細胞RNA-seqの場合は、たくさんの細胞を、遺伝子発現量の類似性に基づいて、いくつかのグループに分けることである\n",
    "- クラスタリングにより見つかったグループをクラスターと呼ぶ"
   ]
  },
  {
   "cell_type": "code",
   "execution_count": null,
   "id": "human-pulse",
   "metadata": {},
   "outputs": [],
   "source": [
    "# Command-31\n",
    "\n",
    "# クラスタリングの準備のために、各細胞について、似ている（＝類似度が大きい、近い）細胞を計算しておく\n",
    "\n",
    "planarian <- FindNeighbors(planarian, dims = 1:10)\n",
    "\n",
    "# クラスタリングを行う\n",
    "# (Number of communities:  のところの数値が、見つかったクラスターの数)\n",
    "\n",
    "planarian <- FindClusters(planarian, resolution = 0.5)"
   ]
  },
  {
   "cell_type": "code",
   "execution_count": null,
   "id": "recreational-congo",
   "metadata": {},
   "outputs": [],
   "source": [
    "# Command-32\n",
    "\n",
    "# クラスタリングの結果（各細胞がどのクラスター（番号で表される）に割り当てられたか）を調べる\n",
    "# 最初の１０細胞についてのみ表示\n",
    "\n",
    "head(Idents(planarian), 10)\n",
    "\n",
    "head(planarian$seurat_clusters, 10)"
   ]
  },
  {
   "cell_type": "code",
   "execution_count": null,
   "id": "unusual-saturday",
   "metadata": {},
   "outputs": [],
   "source": [
    "# Command-33\n",
    "\n",
    "#  各クラスターに割り当てられた細胞の数 (n_cell の列)を集計\n",
    "\n",
    "as_tibble(Idents(planarian), rownames = \"cell_barcode\") %>% \n",
    "    rename(cluster=value) %>%\n",
    "    group_by(cluster) %>%\n",
    "    summarise(n_cell = n())"
   ]
  },
  {
   "cell_type": "markdown",
   "id": "southwest-finder",
   "metadata": {},
   "source": [
    "## B13: PCAの結果にさらにUMAPをかけて２次元空間に射影する"
   ]
  },
  {
   "cell_type": "code",
   "execution_count": null,
   "id": "valuable-variety",
   "metadata": {},
   "outputs": [],
   "source": [
    "# Command-34\n",
    "\n",
    "# UMAPの計算を行う\n",
    "\n",
    "planarian <- RunUMAP(planarian, dims = 1:10)"
   ]
  },
  {
   "cell_type": "code",
   "execution_count": null,
   "id": "breeding-effect",
   "metadata": {
    "scrolled": true
   },
   "outputs": [],
   "source": [
    "# Command-35\n",
    "\n",
    "# UMAP の計算結果を表示する\n",
    "# 点が細胞\n",
    "# 点の色はクラスターを表す\n",
    "\n",
    "DimPlot(planarian, reduction = \"umap\")\n"
   ]
  },
  {
   "cell_type": "markdown",
   "id": "adolescent-grace",
   "metadata": {},
   "source": [
    "## 14. 各クラスターに特徴的な遺伝子群を探す"
   ]
  },
  {
   "cell_type": "code",
   "execution_count": null,
   "id": "about-praise",
   "metadata": {
    "scrolled": true
   },
   "outputs": [],
   "source": [
    "# Command-36\n",
    "\n",
    "# クラスター 1 についてのマーカー遺伝子を探す\n",
    "\n",
    "cluster1_markers <- FindMarkers(planarian, ident.1 = 1, min.pct = 0.25)\n",
    "\n",
    "# マーカー遺伝子５つをとりあえず表示\n",
    "\n",
    "head(cluster1_markers, n = 5)"
   ]
  },
  {
   "cell_type": "code",
   "execution_count": null,
   "id": "steady-cable",
   "metadata": {},
   "outputs": [],
   "source": [
    "# Command-37\n",
    "\n",
    "# クラスター5を クラスター0および3と分けるようなマーカー遺伝子を探す\n",
    "\n",
    "cluster5_markers <- FindMarkers(planarian, ident.1 = 5, ident.2 = c(0, 3), min.pct = 0.25)\n",
    "head(cluster5_markers, n = 5)"
   ]
  },
  {
   "cell_type": "code",
   "execution_count": null,
   "id": "warming-genetics",
   "metadata": {},
   "outputs": [],
   "source": [
    "# Command-38\n",
    "\n",
    "# 全てのクラスターについて、あるクラスター　＄c$ とその他のクラスターを分けるようなマーカー遺伝子を探す\n",
    "# クラスター $c$ で発現量が高く、他のクラスターでは発現量が低いようなものだけにする (`only.pos = TRUE` )\n",
    "\n",
    "planarian_markers <- FindAllMarkers(planarian, only.pos = TRUE, min.pct = 0.25, logfc.threshold = 0.25)"
   ]
  },
  {
   "cell_type": "code",
   "execution_count": null,
   "id": "accessible-chart",
   "metadata": {},
   "outputs": [],
   "source": [
    "# Command-39\n",
    "\n",
    "# 各クラスターについて、avg_log2FC の値のトップ2遺伝子を表示\n",
    "# (各クラスターのマーカー遺伝子を見ようとしている)\n",
    "\n",
    "planarian_markers %>% \n",
    "    group_by(cluster) %>% \n",
    "    top_n(n = 2, avg_log2FC)"
   ]
  },
  {
   "cell_type": "markdown",
   "id": "harmful-brunswick",
   "metadata": {},
   "source": [
    "## 15. クラスターごとに遺伝子発現量をプロットする"
   ]
  },
  {
   "cell_type": "code",
   "execution_count": null,
   "id": "mysterious-stock",
   "metadata": {},
   "outputs": [],
   "source": [
    "# Command-40\n",
    "\n",
    "# Violin plot を表示\n",
    "# 横軸はクラスターを表す\n",
    "# 点は細胞\n",
    "# 縦軸は遺伝子発現量を表す\n",
    "# クラスター間で発現量の分布が異なることがわかる\n",
    "\n",
    "VlnPlot(planarian, features = c(\"Smed-prog-2a-SmedASXL-014068-BPKG56961\", \"SmedASXL-008653\"))"
   ]
  },
  {
   "cell_type": "code",
   "execution_count": null,
   "id": "sealed-technology",
   "metadata": {},
   "outputs": [],
   "source": [
    "# Command-41\n",
    "\n",
    "# 各クラスターで avg_log2FC が高い遺伝子トップ5を抽出する\n",
    "\n",
    "top5_markers <- planarian_markers %>% \n",
    "                    group_by(cluster) %>% \n",
    "                    top_n(n = 5, avg_log2FC)\n",
    "\n",
    "options(repr.plot.width=15, repr.plot.height=10)\n",
    "\n",
    "# ヒートマップを表示\n",
    "# 横軸は細胞 (上に細胞が割り当てられているクラスターが表示されている)\n",
    "# 縦軸は遺伝子\n",
    "# 黄色い要素は発現量が高い\n",
    "# 黄色く四角くまとまっている部分は、（先ほど見つけた）各クラスターでのみ発現量が高い遺伝子を表している\n",
    "\n",
    "DoHeatmap(planarian, features = top5_markers$gene) + NoLegend()"
   ]
  },
  {
   "cell_type": "markdown",
   "id": "exterior-george",
   "metadata": {},
   "source": [
    "## 16. 遺伝子発現量をUMAPの図に重ねる"
   ]
  },
  {
   "cell_type": "code",
   "execution_count": null,
   "id": "outside-terrorist",
   "metadata": {},
   "outputs": [],
   "source": [
    "# Command-43\n",
    "\n",
    "# UMAP の結果を表示\n",
    "# 点が細胞\n",
    "# 色がクラスターを表す\n",
    "\n",
    "options(repr.plot.width=5, repr.plot.height=5)\n",
    "DimPlot(planarian, reduction = \"umap\")"
   ]
  },
  {
   "cell_type": "code",
   "execution_count": null,
   "id": "mature-heavy",
   "metadata": {},
   "outputs": [],
   "source": [
    "# Command-44\n",
    "\n",
    "# 各クラスターで avg_log2FC  が高いトップ1の遺伝子を抽出\n",
    "\n",
    "planarian_markers %>% \n",
    "    group_by(cluster) %>% \n",
    "    top_n(n = 1, avg_log2FC) %>%\n",
    "    .$gene -> each_cluster_features\n",
    "\n",
    "print(each_cluster_features)"
   ]
  },
  {
   "cell_type": "code",
   "execution_count": null,
   "id": "documentary-capacity",
   "metadata": {
    "scrolled": false
   },
   "outputs": [],
   "source": [
    "# Command-45\n",
    "\n",
    "# UMAP の図に、Command-43 で抽出した遺伝子を表示\n",
    "# 点は細胞、色が高いのは各遺伝子の発現量が高いことを意味する\n",
    "# Command-43 の図と比較し、各クラスターで発現量が高くなっているかを確かめる\n",
    "\n",
    "options(repr.plot.width=15, repr.plot.height=10)\n",
    "\n",
    "FeaturePlot(planarian, features = each_cluster_features)"
   ]
  },
  {
   "cell_type": "code",
   "execution_count": null,
   "id": "harmful-purple",
   "metadata": {},
   "outputs": [],
   "source": [
    "# Command-46\n",
    "\n",
    "# マーカーについての情報をR dataset 形式で保存する\n",
    "\n",
    "saveRDS(planarian_markers, file = \"planarian_markers.rds\")\n",
    "\n",
    "# Seurat オブジェクトをR dataset 形式で保存する\n",
    "\n",
    "saveRDS(planarian, file = \"planarian_seurat.rds\")"
   ]
  }
 ],
 "metadata": {
  "kernelspec": {
   "display_name": "R",
   "language": "R",
   "name": "ir"
  },
  "language_info": {
   "codemirror_mode": "r",
   "file_extension": ".r",
   "mimetype": "text/x-r-source",
   "name": "R",
   "pygments_lexer": "r",
   "version": "4.0.3"
  }
 },
 "nbformat": 4,
 "nbformat_minor": 5
}
