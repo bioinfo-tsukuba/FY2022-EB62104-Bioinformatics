{
 "cells": [
  {
   "cell_type": "markdown",
   "id": "checked-complaint",
   "metadata": {},
   "source": [
    "# 発展\n",
    "\n"
   ]
  },
  {
   "cell_type": "markdown",
   "id": "straight-fitness",
   "metadata": {},
   "source": [
    "以下のコマンドをターミナルで打つと、ヒトとプラナリアのオーソログ関係の表（一部）がダウンロードできる。\n",
    "\n",
    "```\n",
    "wget https://www.dropbox.com/s/wti9npcy409rmrv/human_ortholog_subset.tsv\n",
    "\n",
    "mv human_ortholog_subset.tsv data/\n",
    "```\n",
    "\n",
    "プラナリアの各クラスターに特徴的な遺伝子から、各クラスターの細胞の機能を類推せよ。\n",
    "\n",
    "joinを使うとよい。"
   ]
  },
  {
   "cell_type": "markdown",
   "id": "respiratory-publication",
   "metadata": {},
   "source": [
    "## 1. tidyverse パッケージを読み込む"
   ]
  },
  {
   "cell_type": "code",
   "execution_count": null,
   "id": "antique-contents",
   "metadata": {},
   "outputs": [],
   "source": [
    "# 自分で書く\n"
   ]
  },
  {
   "cell_type": "markdown",
   "id": "peripheral-marina",
   "metadata": {},
   "source": [
    "## 2. planarian_markers.rds を読み込む"
   ]
  },
  {
   "cell_type": "code",
   "execution_count": null,
   "id": "thousand-uganda",
   "metadata": {},
   "outputs": [],
   "source": [
    "# 自分で書く\n",
    "\n",
    "# readRDS() で planarian_markers.rds を読み込む\n",
    "\n"
   ]
  },
  {
   "cell_type": "code",
   "execution_count": null,
   "id": "meaning-floor",
   "metadata": {},
   "outputs": [],
   "source": [
    "# 自分で書く\n",
    "\n",
    "# planarian_markers の最初の数行を表示する\n",
    "\n"
   ]
  },
  {
   "cell_type": "code",
   "execution_count": null,
   "id": "ecological-wellington",
   "metadata": {},
   "outputs": [],
   "source": [
    "# 自分で書く\n",
    "\n",
    "# 行数を確認する\n",
    "\n"
   ]
  },
  {
   "cell_type": "code",
   "execution_count": null,
   "id": "graphic-waterproof",
   "metadata": {},
   "outputs": [],
   "source": [
    "# 自分で書く\n",
    "\n",
    "# 列数を確認する\n",
    "\n"
   ]
  },
  {
   "cell_type": "markdown",
   "id": "capital-excess",
   "metadata": {},
   "source": [
    "## 3. ヒトとプラナリアのオーソログ関係の表を読み込む"
   ]
  },
  {
   "cell_type": "code",
   "execution_count": null,
   "id": "dying-camping",
   "metadata": {
    "scrolled": false
   },
   "outputs": [],
   "source": [
    "human_ortholog = read_tsv(\"data/human_ortholog_subset.tsv\", col_names=TRUE)"
   ]
  },
  {
   "cell_type": "code",
   "execution_count": null,
   "id": "saving-bridal",
   "metadata": {},
   "outputs": [],
   "source": [
    "# そのまま実行する\n",
    "\n",
    "head(human_ortholog)"
   ]
  },
  {
   "cell_type": "code",
   "execution_count": null,
   "id": "freelance-breath",
   "metadata": {},
   "outputs": [],
   "source": [
    "# 自分で書く\n",
    "\n",
    "# human_ortholog の行数を確認する\n",
    "\n"
   ]
  },
  {
   "cell_type": "code",
   "execution_count": null,
   "id": "chicken-television",
   "metadata": {},
   "outputs": [],
   "source": [
    "# 自分で書く\n",
    "\n",
    "# human_ortholog の列数を確認する\n",
    "\n"
   ]
  },
  {
   "cell_type": "code",
   "execution_count": null,
   "id": "considerable-lightweight",
   "metadata": {},
   "outputs": [],
   "source": [
    "# そのまま実行する\n",
    "\n",
    "# 遺伝子の名前に含まれる \"_\" (アンダースコア) を \"ハイフン\" に置き換える\n",
    "\n",
    "human_ortholog %>%\n",
    "    mutate(Smed_Code2 = gsub(\"_\", \"-\", Smed_Code)) -> human_ortholog"
   ]
  },
  {
   "cell_type": "markdown",
   "id": "seasonal-morgan",
   "metadata": {},
   "source": [
    "## 4: 各クラスターに特徴的な遺伝子群のヒトオーソログを抽出する"
   ]
  },
  {
   "cell_type": "code",
   "execution_count": null,
   "id": "fitted-ceiling",
   "metadata": {},
   "outputs": [],
   "source": [
    "# 参考コード\n",
    "\n",
    "# これは\n",
    "#   filter(cluster == 0)  で、cluster 0 の行（マーカー遺伝子）を抽出し、\n",
    "#   inner_join で join をしている（  planarian_markers の gene 列　と  human_ortholog の Smed_Code2 の列をキーとしている）\n",
    "\n",
    "planarian_markers %>%\n",
    "    filter(cluster == 0) %>%\n",
    "    inner_join(human_ortholog, by=c(\"gene\" = \"Smed_Code2\"))"
   ]
  },
  {
   "cell_type": "markdown",
   "id": "bulgarian-suspension",
   "metadata": {},
   "source": [
    "## 適宜セルを増やして大丈夫です"
   ]
  },
  {
   "cell_type": "code",
   "execution_count": null,
   "id": "handed-command",
   "metadata": {},
   "outputs": [],
   "source": []
  },
  {
   "cell_type": "code",
   "execution_count": null,
   "id": "impaired-progressive",
   "metadata": {},
   "outputs": [],
   "source": []
  },
  {
   "cell_type": "code",
   "execution_count": null,
   "id": "extreme-timing",
   "metadata": {},
   "outputs": [],
   "source": []
  },
  {
   "cell_type": "code",
   "execution_count": null,
   "id": "outstanding-elder",
   "metadata": {},
   "outputs": [],
   "source": []
  },
  {
   "cell_type": "code",
   "execution_count": null,
   "id": "gothic-newport",
   "metadata": {},
   "outputs": [],
   "source": []
  },
  {
   "cell_type": "code",
   "execution_count": null,
   "id": "another-tackle",
   "metadata": {},
   "outputs": [],
   "source": []
  },
  {
   "cell_type": "code",
   "execution_count": null,
   "id": "noble-beach",
   "metadata": {},
   "outputs": [],
   "source": []
  },
  {
   "cell_type": "code",
   "execution_count": null,
   "id": "packed-broadcasting",
   "metadata": {},
   "outputs": [],
   "source": []
  },
  {
   "cell_type": "code",
   "execution_count": null,
   "id": "innocent-effect",
   "metadata": {},
   "outputs": [],
   "source": []
  }
 ],
 "metadata": {
  "kernelspec": {
   "display_name": "R",
   "language": "R",
   "name": "ir"
  },
  "language_info": {
   "codemirror_mode": "r",
   "file_extension": ".r",
   "mimetype": "text/x-r-source",
   "name": "R",
   "pygments_lexer": "r",
   "version": "4.0.3"
  }
 },
 "nbformat": 4,
 "nbformat_minor": 5
}
